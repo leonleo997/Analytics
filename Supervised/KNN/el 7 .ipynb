{
 "cells": [
  {
   "cell_type": "code",
   "execution_count": 45,
   "metadata": {},
   "outputs": [],
   "source": [
    "from sklearn.datasets import load_digits\n",
    "import pylab as pl\n",
    "import sklearn.metrics as metrics\n",
    "import numpy as np\n"
   ]
  },
  {
   "cell_type": "markdown",
   "metadata": {},
   "source": [
    "Esta función se le ingresa la lista de digitos y el valor que  quiero tener de digitos y me devuelve una lista con esos value"
   ]
  },
  {
   "cell_type": "code",
   "execution_count": 46,
   "metadata": {},
   "outputs": [],
   "source": [
    "def filterValue(digits, value):\n",
    "    filteredList=[]\n",
    "    for i in range(0, len(digits.target)):\n",
    "        if digits.target[i]==value:\n",
    "            filteredList.append(digits.images[i])\n",
    "    return filteredList\n",
    "\n"
   ]
  },
  {
   "cell_type": "markdown",
   "metadata": {},
   "source": [
    "Vamos a verificar la columna de negros"
   ]
  },
  {
   "cell_type": "code",
   "execution_count": 47,
   "metadata": {},
   "outputs": [],
   "source": [
    "def verifyBlackCol(digit,colIndex):\n",
    "    isBlack=False\n",
    "    blackAmount=0\n",
    "    for i in range(0,8):\n",
    "        if(digit[i][colIndex]<=3):\n",
    "            blackAmount+=1\n",
    "    if blackAmount==8:\n",
    "        isBlack=True\n",
    "    return isBlack"
   ]
  },
  {
   "cell_type": "markdown",
   "metadata": {},
   "source": [
    "Vamos a verificar la segunda columna"
   ]
  },
  {
   "cell_type": "code",
   "execution_count": 48,
   "metadata": {},
   "outputs": [],
   "source": [
    "def verifySecondCol(digit):\n",
    "    flag=True\n",
    "    for i in range(0,8):\n",
    "        if(digit[i][1]>10):\n",
    "            flag=False\n",
    "    return flag\n",
    "        "
   ]
  },
  {
   "cell_type": "code",
   "execution_count": null,
   "metadata": {},
   "outputs": [],
   "source": [
    "def verifyThirdCol(digit):\n",
    "    counter=0\n",
    "    flag=False\n",
    "    if(digit[0][2]<10):\n",
    "        counter+=1\n",
    "    if(digit[1][2]>=8 and digit[1][2]<=16):\n",
    "        counter+=1\n",
    "    if(digit[2][2]<=10):\n",
    "        counter+=1\n",
    "    if(digit[3][2]<11):\n",
    "        counter+=1\n",
    "    if(digit[4][2]>=8):\n",
    "        counter+=1\n",
    "    if(digit[5][2]<=13):\n",
    "        counter+=1\n",
    "    if(digit[6][2]<=10):\n",
    "        counter+=1\n",
    "    if(digit[7][2]<=13):\n",
    "        counter+=1\n",
    "    if(counter>=6):\n",
    "        flag=True\n",
    "    return flag"
   ]
  },
  {
   "cell_type": "code",
   "execution_count": 49,
   "metadata": {},
   "outputs": [],
   "source": [
    "def getCol(matrix,col):\n",
    "    colList=[]\n",
    "    for i in range(0,8):\n",
    "        colList.append(matrix[i][col])\n",
    "    return colList"
   ]
  },
  {
   "cell_type": "code",
   "execution_count": 52,
   "metadata": {},
   "outputs": [
    {
     "name": "stdout",
     "output_type": "stream",
     "text": [
      "[ 7.  7.  0.  8. 11.  0.  9. 13.]\n",
      "[ 1. 13. 10.  3. 16.  8.  0.  0.]\n",
      "[ 0.  0.  0.  8. 16.  0.  0.  0.]\n",
      "[ 0.  4.  0.  9. 16.  0.  0.  0.]\n",
      "[ 9. 14.  0.  8. 16.  2.  8. 13.]\n",
      "[ 3. 10.  0. 11. 16.  4.  0.  4.]\n",
      "[ 6. 16.  5.  0. 15. 13.  0.  4.]\n",
      "[ 3. 13.  1.  9. 16.  4.  2.  4.]\n",
      "[ 2. 14.  2.  0. 16.  5.  0.  0.]\n",
      "[ 3. 14. 10.  0.  8.  6.  0.  5.]\n",
      "[ 2. 12.  2.  0. 16.  6.  0.  0.]\n",
      "[ 3. 15.  8.  4. 16.  8.  1.  3.]\n",
      "[ 9. 15.  2.  2. 13. 13.  6. 11.]\n",
      "[ 2.  8.  0.  0.  4. 11.  1.  4.]\n",
      "[ 3. 13.  4.  0.  7. 12.  0.  4.]\n",
      "[10. 14.  1.  2. 16. 10.  6. 13.]\n",
      "[ 7.  8.  0.  4. 16.  3.  0.  7.]\n",
      "[ 1. 14.  6.  0.  2.  3.  0.  1.]\n",
      "[ 5.  4.  0.  2. 13.  3.  0.  6.]\n",
      "[15.  8.  0.  7. 16.  5.  9. 16.]\n"
     ]
    },
    {
     "data": {
      "text/plain": [
       "<Figure size 432x288 with 0 Axes>"
      ]
     },
     "metadata": {},
     "output_type": "display_data"
    }
   ],
   "source": [
    "#listNumbersWanted\n",
    "digits=load_digits()\n",
    "listWanted=filterValue(digits, 7)\n",
    "#print(listWanted[0:3])\n",
    "pl.gray()\n",
    "\n",
    "for i in range(0, 20):\n",
    "    #pl.matshow(listWanted[i])\n",
    "    print(np.asarray(getCol(listWanted[i],2)))\n",
    "\n"
   ]
  },
  {
   "cell_type": "code",
   "execution_count": null,
   "metadata": {},
   "outputs": [],
   "source": []
  }
 ],
 "metadata": {
  "kernelspec": {
   "display_name": "Python 3",
   "language": "python",
   "name": "python3"
  },
  "language_info": {
   "codemirror_mode": {
    "name": "ipython",
    "version": 3
   },
   "file_extension": ".py",
   "mimetype": "text/x-python",
   "name": "python",
   "nbconvert_exporter": "python",
   "pygments_lexer": "ipython3",
   "version": "3.6.5"
  }
 },
 "nbformat": 4,
 "nbformat_minor": 2
}
