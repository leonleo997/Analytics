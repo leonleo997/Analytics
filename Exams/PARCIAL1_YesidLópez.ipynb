{
 "cells": [
  {
   "cell_type": "markdown",
   "metadata": {},
   "source": [
    "# Analítica de datos\n",
    "# Examen parcial 1\n",
    "# 2018-02\n",
    "## Yesid Leonardo López Sierra, A00056408"
   ]
  },
  {
   "cell_type": "markdown",
   "metadata": {},
   "source": [
    "El dataset que deben analizar contiene los registros del histórico de las personas a las que se les ha otorgado un crédito financiero, indicando quienes pudieron pagarlo sin problemas y quienes no.\n",
    "\n",
    "La idea es poder predecir, utilizando un modelo de aprendizaje supervisado (KNN) y las variables independientes disponibles qué aspirantes a un crédito tienen mas o menos riesgo de pagar.\n",
    "\n",
    "Las variables de la hoja de datos son las siguientes:\n",
    "- ID: El ID del cliente en el banco. Numérico, debe ser positivo y único.\n",
    "- PudoPagar: Indica si el cliente ha podido pagar el crédito sin problemas (1) o no (0). Variable categórica binaria.\n",
    "- Estudiante: Indica si el cliente es estudiante (Si) o no lo es (No). Variable categórica binaria.\n",
    "- Deuda: Indica la cantidad del crédito que aún adeuda el cliente. Deben ser valores numéricos positivos o nulos.\n",
    "- Cuenta: Indica el dinero que tiene en la cuenta del banco. Deben ser valores numéricos."
   ]
  },
  {
   "cell_type": "markdown",
   "metadata": {},
   "source": [
    "## Entendimiento de los datos, limpieza"
   ]
  },
  {
   "cell_type": "markdown",
   "metadata": {},
   "source": [
    "El archivo \"creditos_examen.csv\" contiene el dataset que tienen que analizar.\n",
    "Se recomienda abrirlo primero en un lector de archivos planos para entender preliminarmente su formato y así poderlo cargar adecuadamente con Python.\n",
    "\n",
    "Teniendo en cuenta el tipo de problema en cuestión (clasificación o regresión), realice un análisis exploratorio de los datos estableciendo el baseline, verificando la calidad de los datos (tipos de las variables, valores inválidos, excepciones, valores faltantes, etc.), utilizando gráficos para poder entender las distribuciones de los datos e identificar posibles problemas."
   ]
  },
  {
   "cell_type": "markdown",
   "metadata": {},
   "source": [
    "#### Puntos a desarrollar\n",
    "\n",
    "- Carguen el archivo en memoria y exploren los datos, tratando de identificar problemas e inconsistencias teniendo en cuenta el diccionario de datos y el contexto del problema. (0.7)\n",
    "\n",
    "- Obtengan el modelo de referencia (Baseline) y calculen sus métricas de evaluación. (0.3)\n",
    "\n",
    "- Limpien los datos arreglando los problemas, eliminando columnas, eliminando registros, o ignorándolos, justificando sus decisiones. \n",
    "Una vez resueltos los problemas encontrados, indique la siguiente información: ID del registro, Tipo de ProblemaResolución. (1.2)"
   ]
  },
  {
   "cell_type": "markdown",
   "metadata": {},
   "source": [
    "## Modelamiento con K-NN"
   ]
  },
  {
   "cell_type": "markdown",
   "metadata": {},
   "source": [
    "#### Puntos a desarrollar:\n",
    "\n",
    "- Escogiendo un valor de los parámetros al azar, construyan un modelo K-NN inicial sobre los datos limpios y calcule las métricas de accuracy, error, kappa, precision, recall, especifidad, y F-measure. Analice la calidad del modelo interpretando las métricas (1.0).\n",
    "\n",
    "- Teniendo en cuenta las métricas más adecuadas para el problema, y siguiendo un protocolo de evaluación adecuado, establezca el mejor valor de los parámetros del modelo. (1.5)\n",
    "\n",
    "- ¿El valor de los parámetros inicialmente escogido estaba en una situación de overfitting o de underfitting? Explique su respuesta. (0.5)"
   ]
  },
  {
   "cell_type": "markdown",
   "metadata": {},
   "source": [
    "# Desarrollo de los puntos"
   ]
  },
  {
   "cell_type": "markdown",
   "metadata": {},
   "source": [
    "A continuación, cargamos el dataset. Para esto usamos cargamos las librerías"
   ]
  },
  {
   "cell_type": "code",
   "execution_count": 314,
   "metadata": {},
   "outputs": [],
   "source": [
    "import numpy as np #operaciones matriciales y con vectores\n",
    "import pandas as pd #tratamiento de datos\n",
    "import matplotlib.pyplot as plt #gráficos\n",
    "from sklearn.model_selection import train_test_split #metodo de particionamiento de datasets para evaluación\n",
    "from sklearn.model_selection import KFold, cross_val_score, cross_validate #protocolo de evaluación\n",
    "from sklearn import neighbors, datasets, metrics\n",
    "from sklearn import preprocessing \n",
    "import seaborn as sns"
   ]
  },
  {
   "cell_type": "markdown",
   "metadata": {},
   "source": [
    "## Exploración de los datos"
   ]
  },
  {
   "cell_type": "markdown",
   "metadata": {},
   "source": [
    "Primero cargamos el dataset: "
   ]
  },
  {
   "cell_type": "code",
   "execution_count": 315,
   "metadata": {},
   "outputs": [],
   "source": [
    "dataset=pd.read_csv(\"./creditos_examen.csv\",sep=\";\")\n",
    "dataset=pd.DataFrame(dataset)"
   ]
  },
  {
   "cell_type": "markdown",
   "metadata": {},
   "source": [
    "Vemos un poco sobre el tipo de datos del data set e imprimimos los primeros diez valores:"
   ]
  },
  {
   "cell_type": "code",
   "execution_count": 316,
   "metadata": {},
   "outputs": [
    {
     "name": "stdout",
     "output_type": "stream",
     "text": [
      "<class 'pandas.core.frame.DataFrame'>\n",
      "RangeIndex: 10000 entries, 0 to 9999\n",
      "Data columns (total 5 columns):\n",
      "ID            10000 non-null int64\n",
      "PudoPagar     10000 non-null int64\n",
      "Estudiante    9996 non-null object\n",
      "Ingresos      10000 non-null int64\n",
      "Cuenta        10000 non-null int64\n",
      "dtypes: int64(4), object(1)\n",
      "memory usage: 390.7+ KB\n",
      "None\n",
      "\n",
      "Tipos de datos de las columnas: \n",
      " ID             int64\n",
      "PudoPagar      int64\n",
      "Estudiante    object\n",
      "Ingresos       int64\n",
      "Cuenta         int64\n",
      "dtype: object\n",
      "\n",
      "Diez primeros registros: \n",
      "    ID  PudoPagar Estudiante  Ingresos   Cuenta\n",
      "0  -1          0         No   3196574   358943\n",
      "1  -1          0         No   4944040  3857756\n",
      "2   1          0         No   4436163  3647632\n",
      "3   2          0         Si   1210613  4085902\n",
      "4   3          0         No   3176714  5367746\n",
      "5   4          0         No   3570449  2646253\n",
      "6   5          0         No   3846350  3928279\n",
      "7   6          0         Si    749156  4597943\n",
      "8   7          0         No   2490523  4127567\n",
      "9   8          0         Si   1760045  4043338\n",
      "\n",
      "Columnas:  Index(['ID', 'PudoPagar', 'Estudiante', 'Ingresos', 'Cuenta'], dtype='object')\n",
      "\n",
      "Tamaño:  (10000, 5)\n"
     ]
    }
   ],
   "source": [
    "print(dataset.info())\n",
    "print(\"\\nTipos de datos de las columnas: \\n\", dataset.dtypes)\n",
    "print(\"\\nDiez primeros registros: \\n\",dataset.head(10))\n",
    "print(\"\\nColumnas: \",dataset.columns)\n",
    "print(\"\\nTamaño: \",dataset.shape)"
   ]
  },
  {
   "cell_type": "code",
   "execution_count": 317,
   "metadata": {
    "scrolled": true
   },
   "outputs": [
    {
     "data": {
      "text/html": [
       "<div>\n",
       "<style scoped>\n",
       "    .dataframe tbody tr th:only-of-type {\n",
       "        vertical-align: middle;\n",
       "    }\n",
       "\n",
       "    .dataframe tbody tr th {\n",
       "        vertical-align: top;\n",
       "    }\n",
       "\n",
       "    .dataframe thead th {\n",
       "        text-align: right;\n",
       "    }\n",
       "</style>\n",
       "<table border=\"1\" class=\"dataframe\">\n",
       "  <thead>\n",
       "    <tr style=\"text-align: right;\">\n",
       "      <th></th>\n",
       "      <th>ID</th>\n",
       "      <th>PudoPagar</th>\n",
       "      <th>Estudiante</th>\n",
       "      <th>Ingresos</th>\n",
       "      <th>Cuenta</th>\n",
       "    </tr>\n",
       "  </thead>\n",
       "  <tbody>\n",
       "    <tr>\n",
       "      <th>count</th>\n",
       "      <td>10000.000000</td>\n",
       "      <td>10000.000000</td>\n",
       "      <td>9996</td>\n",
       "      <td>1.000000e+04</td>\n",
       "      <td>1.000000e+04</td>\n",
       "    </tr>\n",
       "    <tr>\n",
       "      <th>unique</th>\n",
       "      <td>NaN</td>\n",
       "      <td>NaN</td>\n",
       "      <td>2</td>\n",
       "      <td>NaN</td>\n",
       "      <td>NaN</td>\n",
       "    </tr>\n",
       "    <tr>\n",
       "      <th>top</th>\n",
       "      <td>NaN</td>\n",
       "      <td>NaN</td>\n",
       "      <td>No</td>\n",
       "      <td>NaN</td>\n",
       "      <td>NaN</td>\n",
       "    </tr>\n",
       "    <tr>\n",
       "      <th>freq</th>\n",
       "      <td>NaN</td>\n",
       "      <td>NaN</td>\n",
       "      <td>7052</td>\n",
       "      <td>NaN</td>\n",
       "      <td>NaN</td>\n",
       "    </tr>\n",
       "    <tr>\n",
       "      <th>mean</th>\n",
       "      <td>5000.423000</td>\n",
       "      <td>0.033300</td>\n",
       "      <td>NaN</td>\n",
       "      <td>3.036625e+06</td>\n",
       "      <td>1.433952e+07</td>\n",
       "    </tr>\n",
       "    <tr>\n",
       "      <th>std</th>\n",
       "      <td>2887.023398</td>\n",
       "      <td>0.179428</td>\n",
       "      <td>NaN</td>\n",
       "      <td>7.028938e+07</td>\n",
       "      <td>1.016575e+09</td>\n",
       "    </tr>\n",
       "    <tr>\n",
       "      <th>min</th>\n",
       "      <td>-1.000000</td>\n",
       "      <td>0.000000</td>\n",
       "      <td>NaN</td>\n",
       "      <td>-4.288864e+09</td>\n",
       "      <td>-2.247063e+07</td>\n",
       "    </tr>\n",
       "    <tr>\n",
       "      <th>25%</th>\n",
       "      <td>2500.750000</td>\n",
       "      <td>0.000000</td>\n",
       "      <td>NaN</td>\n",
       "      <td>1.823537e+06</td>\n",
       "      <td>2.408656e+06</td>\n",
       "    </tr>\n",
       "    <tr>\n",
       "      <th>50%</th>\n",
       "      <td>5000.500000</td>\n",
       "      <td>0.000000</td>\n",
       "      <td>NaN</td>\n",
       "      <td>3.209805e+06</td>\n",
       "      <td>4.118185e+06</td>\n",
       "    </tr>\n",
       "    <tr>\n",
       "      <th>75%</th>\n",
       "      <td>7500.250000</td>\n",
       "      <td>0.000000</td>\n",
       "      <td>NaN</td>\n",
       "      <td>4.281578e+06</td>\n",
       "      <td>5.831542e+06</td>\n",
       "    </tr>\n",
       "    <tr>\n",
       "      <th>max</th>\n",
       "      <td>10000.000000</td>\n",
       "      <td>1.000000</td>\n",
       "      <td>NaN</td>\n",
       "      <td>4.299358e+09</td>\n",
       "      <td>1.016613e+11</td>\n",
       "    </tr>\n",
       "  </tbody>\n",
       "</table>\n",
       "</div>"
      ],
      "text/plain": [
       "                  ID     PudoPagar Estudiante      Ingresos        Cuenta\n",
       "count   10000.000000  10000.000000       9996  1.000000e+04  1.000000e+04\n",
       "unique           NaN           NaN          2           NaN           NaN\n",
       "top              NaN           NaN         No           NaN           NaN\n",
       "freq             NaN           NaN       7052           NaN           NaN\n",
       "mean     5000.423000      0.033300        NaN  3.036625e+06  1.433952e+07\n",
       "std      2887.023398      0.179428        NaN  7.028938e+07  1.016575e+09\n",
       "min        -1.000000      0.000000        NaN -4.288864e+09 -2.247063e+07\n",
       "25%      2500.750000      0.000000        NaN  1.823537e+06  2.408656e+06\n",
       "50%      5000.500000      0.000000        NaN  3.209805e+06  4.118185e+06\n",
       "75%      7500.250000      0.000000        NaN  4.281578e+06  5.831542e+06\n",
       "max     10000.000000      1.000000        NaN  4.299358e+09  1.016613e+11"
      ]
     },
     "execution_count": 317,
     "metadata": {},
     "output_type": "execute_result"
    }
   ],
   "source": [
    "dataset.describe(include=\"all\")"
   ]
  },
  {
   "cell_type": "markdown",
   "metadata": {},
   "source": [
    "Vemos cuántos valores son menores o iguales a cero en la columna de cuenta, y cuántos son menores a cero en ingresos:"
   ]
  },
  {
   "cell_type": "code",
   "execution_count": 318,
   "metadata": {},
   "outputs": [
    {
     "name": "stdout",
     "output_type": "stream",
     "text": [
      "Deudas menores o iguales a cero: 0.0999\n"
     ]
    }
   ],
   "source": [
    "print(\"Deudas menores o iguales a cero:\",dataset[dataset[\"Ingresos\"]<0].shape[0]/dataset.shape[0])"
   ]
  },
  {
   "cell_type": "markdown",
   "metadata": {},
   "source": [
    "A continuación, separaremos las variables independientes de la dependiente solo para probar con el modelo de regerencia baseline:"
   ]
  },
  {
   "cell_type": "markdown",
   "metadata": {},
   "source": [
    "De lo anterior podemos identificar que la variable dependiente en este caso es \"PudoPagar\" pues el objetivo es identificar qué aspirantes a un crédito tienen mas o menos riesgo de pagar. Por otro lado podemos observar que todos los datos son enteros exceptuando el si es estudiante o no.  \n",
    "Por lo tanto no es tenida en cuenta. Por lo tanto, las variables dependientes serán Estudiante, Ingresos y Cuenta."
   ]
  },
  {
   "cell_type": "code",
   "execution_count": 319,
   "metadata": {
    "scrolled": true
   },
   "outputs": [
    {
     "name": "stdout",
     "output_type": "stream",
     "text": [
      "variables independientes: \n",
      " Index(['ID', 'Estudiante', 'Ingresos', 'Cuenta'], dtype='object') (10000, 4)\n",
      "\n",
      "variable dependiente: \n",
      " 0    0\n",
      "1    0\n",
      "2    0\n",
      "3    0\n",
      "4    0\n",
      "Name: PudoPagar, dtype: int64 (10000,)\n"
     ]
    }
   ],
   "source": [
    "target=dataset['PudoPagar']\n",
    "features=dataset[[\"ID\",\"Estudiante\", \"Ingresos\",\"Cuenta\"]]\n",
    "\n",
    "print(\"variables independientes: \\n\", features.columns, features.shape)\n",
    "print(\"\\nvariable dependiente: \\n\", target.head(), target.shape)\n",
    "\n"
   ]
  },
  {
   "cell_type": "markdown",
   "metadata": {},
   "source": [
    "Tomando como base el **modelo de referencia Baseline**, es teniendo en cuenta la clase mayoritaria. "
   ]
  },
  {
   "cell_type": "code",
   "execution_count": 320,
   "metadata": {
    "scrolled": true
   },
   "outputs": [
    {
     "name": "stdout",
     "output_type": "stream",
     "text": [
      "Clase que más se repite:  0\n",
      "Exactitud:  0.9667\n",
      "\n",
      "Reporte métricas: \n",
      "              precision    recall  f1-score   support\n",
      "\n",
      "          0       1.00      0.97      0.98     10000\n",
      "          1       0.00      0.00      0.00         0\n",
      "\n",
      "avg / total       1.00      0.97      0.98     10000\n",
      "\n"
     ]
    },
    {
     "name": "stderr",
     "output_type": "stream",
     "text": [
      "/home/yeye/anaconda3/lib/python3.6/site-packages/sklearn/metrics/classification.py:1137: UndefinedMetricWarning: Recall and F-score are ill-defined and being set to 0.0 in labels with no true samples.\n",
      "  'recall', 'true', average, warn_for)\n"
     ]
    }
   ],
   "source": [
    "from scipy import stats\n",
    "mayoritario=stats.mode(target)\n",
    "moda=mayoritario.mode[0]\n",
    "print(\"Clase que más se repite: \",moda)\n",
    "\n",
    "predicted=np.repeat(moda, target.size)\n",
    "\n",
    "print(\"Exactitud: \", metrics.accuracy_score(predicted, target))\n",
    "print(\"\\nReporte métricas: \\n\",metrics.classification_report(predicted, target))"
   ]
  },
  {
   "cell_type": "markdown",
   "metadata": {},
   "source": [
    "## Limpieza de datos"
   ]
  },
  {
   "cell_type": "markdown",
   "metadata": {},
   "source": [
    "Eliminamos los registros donde tenemos valores nulos. En el caso de la columna de estudiante, tenemos datos que son nulos, por lo tanto los debemos de eliminar."
   ]
  },
  {
   "cell_type": "code",
   "execution_count": 321,
   "metadata": {},
   "outputs": [
    {
     "name": "stdout",
     "output_type": "stream",
     "text": [
      "(9996, 5)\n"
     ]
    }
   ],
   "source": [
    "dataset=dataset.dropna()\n",
    "print(dataset.shape)\n",
    "\n",
    "#dataset=dataset[[\"ID\",\"Estudiante\", \"Ingresos\",\"Cuenta\"]]\n"
   ]
  },
  {
   "cell_type": "markdown",
   "metadata": {},
   "source": [
    "Eliminamos la columna de ID debido a que es una variable que no influye si una persona deserta o no."
   ]
  },
  {
   "cell_type": "code",
   "execution_count": 322,
   "metadata": {},
   "outputs": [],
   "source": [
    "dataset=dataset.drop(labels=\"ID\",axis=1)"
   ]
  },
  {
   "cell_type": "markdown",
   "metadata": {},
   "source": [
    "Como se observó anteriormente en la exploración de los datos, el 10% de los registros tenían un valor numérico negativo, por lo tanto, tomamos el valor absoluto de estas columnas."
   ]
  },
  {
   "cell_type": "code",
   "execution_count": 323,
   "metadata": {},
   "outputs": [
    {
     "name": "stdout",
     "output_type": "stream",
     "text": [
      "Deudas menores a cero: 0.0\n"
     ]
    }
   ],
   "source": [
    "dataset[\"Ingresos\"]=dataset[\"Ingresos\"].abs()\n",
    "print(\"Deudas menores a cero:\",dataset[dataset[\"Ingresos\"]<0].size/dataset.shape[0])"
   ]
  },
  {
   "cell_type": "markdown",
   "metadata": {},
   "source": [
    "Al terminar la limpieza tendremos que las variables independientes son: cuenta,deuda y estudiante."
   ]
  },
  {
   "cell_type": "code",
   "execution_count": 324,
   "metadata": {},
   "outputs": [
    {
     "name": "stdout",
     "output_type": "stream",
     "text": [
      "variables independientes: \n",
      " Index(['ID', 'Estudiante', 'Ingresos', 'Cuenta'], dtype='object')\n",
      "\n",
      "variable dependiente paga o no paga: \n",
      " [0 0 0 ... 0 0 0]\n"
     ]
    }
   ],
   "source": [
    "print(\"variables independientes: \\n\", features.columns)\n",
    "print(\"\\nvariable dependiente paga o no paga: \\n\", target.values)\n"
   ]
  },
  {
   "cell_type": "markdown",
   "metadata": {},
   "source": [
    "Una vez ya hemos limpiado los datos, veremos el resultado de la limpieza:"
   ]
  },
  {
   "cell_type": "code",
   "execution_count": 325,
   "metadata": {
    "scrolled": false
   },
   "outputs": [
    {
     "data": {
      "text/html": [
       "<div>\n",
       "<style scoped>\n",
       "    .dataframe tbody tr th:only-of-type {\n",
       "        vertical-align: middle;\n",
       "    }\n",
       "\n",
       "    .dataframe tbody tr th {\n",
       "        vertical-align: top;\n",
       "    }\n",
       "\n",
       "    .dataframe thead th {\n",
       "        text-align: right;\n",
       "    }\n",
       "</style>\n",
       "<table border=\"1\" class=\"dataframe\">\n",
       "  <thead>\n",
       "    <tr style=\"text-align: right;\">\n",
       "      <th></th>\n",
       "      <th>PudoPagar</th>\n",
       "      <th>Estudiante</th>\n",
       "      <th>Deuda</th>\n",
       "      <th>Cuenta</th>\n",
       "    </tr>\n",
       "  </thead>\n",
       "  <tbody>\n",
       "    <tr>\n",
       "      <th>0</th>\n",
       "      <td>0</td>\n",
       "      <td>No</td>\n",
       "      <td>3196574</td>\n",
       "      <td>358943</td>\n",
       "    </tr>\n",
       "    <tr>\n",
       "      <th>1</th>\n",
       "      <td>0</td>\n",
       "      <td>No</td>\n",
       "      <td>4944040</td>\n",
       "      <td>3857756</td>\n",
       "    </tr>\n",
       "    <tr>\n",
       "      <th>2</th>\n",
       "      <td>0</td>\n",
       "      <td>No</td>\n",
       "      <td>4436163</td>\n",
       "      <td>3647632</td>\n",
       "    </tr>\n",
       "    <tr>\n",
       "      <th>3</th>\n",
       "      <td>0</td>\n",
       "      <td>Si</td>\n",
       "      <td>1210613</td>\n",
       "      <td>4085902</td>\n",
       "    </tr>\n",
       "    <tr>\n",
       "      <th>4</th>\n",
       "      <td>0</td>\n",
       "      <td>No</td>\n",
       "      <td>3176714</td>\n",
       "      <td>5367746</td>\n",
       "    </tr>\n",
       "    <tr>\n",
       "      <th>5</th>\n",
       "      <td>0</td>\n",
       "      <td>No</td>\n",
       "      <td>3570449</td>\n",
       "      <td>2646253</td>\n",
       "    </tr>\n",
       "    <tr>\n",
       "      <th>6</th>\n",
       "      <td>0</td>\n",
       "      <td>No</td>\n",
       "      <td>3846350</td>\n",
       "      <td>3928279</td>\n",
       "    </tr>\n",
       "    <tr>\n",
       "      <th>7</th>\n",
       "      <td>0</td>\n",
       "      <td>Si</td>\n",
       "      <td>749156</td>\n",
       "      <td>4597943</td>\n",
       "    </tr>\n",
       "    <tr>\n",
       "      <th>8</th>\n",
       "      <td>0</td>\n",
       "      <td>No</td>\n",
       "      <td>2490523</td>\n",
       "      <td>4127567</td>\n",
       "    </tr>\n",
       "    <tr>\n",
       "      <th>9</th>\n",
       "      <td>0</td>\n",
       "      <td>Si</td>\n",
       "      <td>1760045</td>\n",
       "      <td>4043338</td>\n",
       "    </tr>\n",
       "  </tbody>\n",
       "</table>\n",
       "</div>"
      ],
      "text/plain": [
       "   PudoPagar Estudiante    Deuda   Cuenta\n",
       "0          0         No  3196574   358943\n",
       "1          0         No  4944040  3857756\n",
       "2          0         No  4436163  3647632\n",
       "3          0         Si  1210613  4085902\n",
       "4          0         No  3176714  5367746\n",
       "5          0         No  3570449  2646253\n",
       "6          0         No  3846350  3928279\n",
       "7          0         Si   749156  4597943\n",
       "8          0         No  2490523  4127567\n",
       "9          0         Si  1760045  4043338"
      ]
     },
     "execution_count": 325,
     "metadata": {},
     "output_type": "execute_result"
    }
   ],
   "source": [
    "dataset.columns=[\"PudoPagar\",\"Estudiante\",\"Deuda\",\"Cuenta\"]\n",
    "dataset.head(10)"
   ]
  },
  {
   "cell_type": "code",
   "execution_count": 326,
   "metadata": {},
   "outputs": [],
   "source": [
    "# dim_x=0\n",
    "# dim_y=1\n",
    "\n",
    "# features=dataset[[\"Deuda\",\"Cuenta\"]]\n",
    "# target=dataset.PudoPagar\n",
    "\n",
    "# featuresArray=np.array(features)\n",
    "# targetArray=np.array(target)\n",
    "\n",
    "# print(dataset.shape,featuresArray.shape,targetArray.shape)\n",
    "# grupo= dataset.groupby('PudoPagar')\n",
    "# print(grupo.get_group(0).shape)\n",
    "# print(grupo.get_group(1).shape)\n",
    "\n",
    "\n",
    "# target_names=[\"Pagó\",\"No pagó\"]\n",
    "# for name, group in dataset.groupby('PudoPagar'):\n",
    "#     print(group[\"Deuda\"],group)\n",
    "# #     print(featuresArray[group.index,dim_x], featuresArray[group.index,dim_y])\n",
    "# #     plt.scatter(group[\"Deuda\"], featuresArray[group.index,dim_y])\n",
    "# plt.legend()"
   ]
  },
  {
   "cell_type": "code",
   "execution_count": 327,
   "metadata": {},
   "outputs": [
    {
     "data": {
      "text/plain": [
       "<seaborn.axisgrid.PairGrid at 0x7f16f3ea1b38>"
      ]
     },
     "execution_count": 327,
     "metadata": {},
     "output_type": "execute_result"
    },
    {
     "data": {
      "image/png": "[encoded data removed]",
      "text/plain": [
       "<Figure size 360x360 with 6 Axes>"
      ]
     },
     "metadata": {},
     "output_type": "display_data"
    }
   ],
   "source": [
    "sns.pairplot(dataset[dataset.columns[1:4]])"
   ]
  },
  {
   "cell_type": "markdown",
   "metadata": {},
   "source": [
    "Ahora, debido a que tenemos dos tipos de valores para un estudiante (Lo es(Si) o no(No)), dividiremos el dataset en dos. El dataset para estudiantes y el de no estudiantes.  \n",
    "El desarrollador a simple vista puede pensar que es mejor dejarlo como una feature más, sin embargo, el hecho de que sea solo dos valores hace que el sesgo incrementa."
   ]
  },
  {
   "cell_type": "code",
   "execution_count": 328,
   "metadata": {},
   "outputs": [],
   "source": [
    "datasetEstudiantes=dataset[dataset[\"Estudiante\"]==\"Si\"]\n",
    "\n",
    "datasetNoEstudiantes=dataset[dataset[\"Estudiante\"]==\"No\"]"
   ]
  },
  {
   "cell_type": "markdown",
   "metadata": {},
   "source": [
    "# MODELO KNN - Estudiantes"
   ]
  },
  {
   "cell_type": "markdown",
   "metadata": {},
   "source": [
    "Ahora procederemos a crear y entrenar un modelo KNN con k=5 para el caso de los estudiantes."
   ]
  },
  {
   "cell_type": "markdown",
   "metadata": {},
   "source": [
    " de accuracy, error, kappa, precision, recall, especifidad, y F-measure. Analice la calidad del modelo interpretando las métricas (1.0).m"
   ]
  },
  {
   "cell_type": "code",
   "execution_count": 329,
   "metadata": {
    "scrolled": false
   },
   "outputs": [],
   "source": [
    "\n",
    "features=datasetEstudiantes[[\"Deuda\",\"Cuenta\"]]\n",
    "target=datasetEstudiantes.PudoPagar\n",
    "\n",
    "cf=neighbors.KNeighborsClassifier(n_neighbors=5)\n",
    "cf.fit(features, target)\n",
    "\n",
    "predicted=cf.predict(features)"
   ]
  },
  {
   "cell_type": "markdown",
   "metadata": {},
   "source": [
    "### Metricas del modelo"
   ]
  },
  {
   "cell_type": "code",
   "execution_count": 330,
   "metadata": {},
   "outputs": [
    {
     "data": {
      "text/plain": [
       "([<matplotlib.axis.YTick at 0x7f16f3ea1828>,\n",
       "  <matplotlib.axis.YTick at 0x7f16f84b6da0>],\n",
       " <a list of 2 Text yticklabel objects>)"
      ]
     },
     "execution_count": 330,
     "metadata": {},
     "output_type": "execute_result"
    },
    {
     "data": {
      "image/png": "[encoded data removed]",
      "text/plain": [
       "<Figure size 432x288 with 2 Axes>"
      ]
     },
     "metadata": {},
     "output_type": "display_data"
    }
   ],
   "source": [
    "cm=metrics.confusion_matrix(target,predicted)\n",
    "plt.imshow(cm, cmap=plt.cm.Blues)\n",
    "plt.title(\"Matriz de confusión para K=5\")\n",
    "plt.colorbar()\n",
    "tick_marks = np.arange(2)\n",
    "plt.xticks(tick_marks, [0,1])\n",
    "plt.yticks(tick_marks, [0,1])"
   ]
  },
  {
   "cell_type": "code",
   "execution_count": 331,
   "metadata": {
    "scrolled": true
   },
   "outputs": [
    {
     "name": "stdout",
     "output_type": "stream",
     "text": [
      "Exactitud:  0.9690896739130435\n",
      "Error:  0.03091032608695654\n",
      "Kappa    :  0.5533801896480441\n",
      "-------------------------------------\n",
      "Metricas para la categoría clientes estudiantes con problemas en el pago\n",
      "Precisión     :  0.9765734265734266\n",
      "Recall        :  0.9914802981895634\n",
      "Especificidad :  0.47244094488188976\n",
      "F1-score      :  0.9839704069050556\n",
      "-------------------------------------\n",
      "Metricas para la categoría clientes estudiantes sin problemas en el pago\n",
      "Precisión     :  0.7142857142857143\n",
      "Recall        :  0.47244094488188976\n",
      "Especificidad :  0.9914802981895634\n",
      "F1-score      :  0.5687203791469194\n"
     ]
    },
    {
     "data": {
      "text/plain": [
       "array([[2793,   24],\n",
       "       [  67,   60]])"
      ]
     },
     "execution_count": 331,
     "metadata": {},
     "output_type": "execute_result"
    }
   ],
   "source": [
    "\n",
    "print(\"Exactitud: \", metrics.accuracy_score(target,predicted))\n",
    "print(\"Error: \",1-metrics.accuracy_score(target,predicted))\n",
    "print(\"Kappa    : \", metrics.cohen_kappa_score(target,predicted))\n",
    "print(\"-------------------------------------\")\n",
    "print(\"Metricas para la categoría clientes estudiantes con problemas en el pago\" )\n",
    "print(\"Precisión     : \", metrics.precision_score(target,predicted, labels=[0], average=\"macro\"))\n",
    "print(\"Recall        : \", metrics.recall_score(target,predicted, labels=[0], average=\"macro\"))\n",
    "VN = np.sum(cm[1,1])\n",
    "FP = np.sum(cm[1,0])\n",
    "specificity = VN/(VN+FP)\n",
    "print(\"Especificidad : \", specificity)\n",
    "print(\"F1-score      : \", metrics.f1_score(target,predicted, labels=[0], average=\"macro\"))\n",
    "print(\"-------------------------------------\")\n",
    "print(\"Metricas para la categoría clientes estudiantes sin problemas en el pago\" )\n",
    "print(\"Precisión     : \", metrics.precision_score(target,predicted, labels=[1], average=\"macro\"))\n",
    "print(\"Recall        : \", metrics.recall_score(target,predicted, labels=[1], average=\"macro\"))\n",
    "VN = np.sum(cm[0,0])\n",
    "FP = np.sum(cm[0,1])\n",
    "specificity = VN/(VN+FP)\n",
    "print(\"Especificidad : \", specificity)\n",
    "print(\"F1-score      : \", metrics.f1_score(target,predicted, labels=[1], average=\"macro\"))\n",
    "cm"
   ]
  },
  {
   "cell_type": "markdown",
   "metadata": {},
   "source": [
    "A continuación, interpretaremos cada métrica:  \n",
    "* Tenemos una exactitud del 97%, lo que significa que tiene un error del 3% donde no predice de forma correcta. \n",
    "* Tenemos un kappa del 55%. Esto significa que el porcentaje de instancias clasificadas por el clasificador de aprendizaje automático que coinciden con los datos etiquetados como verdad fundamental es de 55%\n",
    "* Para el caso de la categoría de clientes estudiantes con problemas en el pago, tenemos:\n",
    "    * El porcentaje de personas que realmente tuvieron problemas en el pago, respecto a los que fueron predecidos fue del 97.66%\n",
    "    * El porcentaje de personas que fue predecido que tendrían problemas con el pago, respecto a los que verdaderamente lo tuvieron fue del 99.15%\n",
    "    * El porcentaje de personas predecidas que no tuvieron problema con el pago, respecto a los que verdaderamente no lo tuvieron es del 47.24%\n",
    "    * El promedio armónico entre el recall y la precisión es de 98.40%\n",
    "* Para el caso de la categoría de clientes estudiantes sin problemas en el pago, tenemos:\n",
    "    * El porcentaje de personas que realmente no tuvieron problemas en el pago, respecto a los que fueron predecidos fue del 71.43%\n",
    "    * El porcentaje de personas que fue predecido que no tendrían problemas con el pago, respecto a los que verdaderamente no lo tuvieron fue del 47.24%\n",
    "    * El porcentaje de personas predecidas que tuvieron problema con el pago, respecto a los que verdaderamente lo tuvieron es del 98.15%\n",
    "    * El promedio armónico entre el recall y la precisión es de 56.87%\n",
    "    \n",
    "Lo anterior significa que en términos de predecir los estudiantes que tuvieron problemas con el pago es bueno, sin embargo, a la hora de predecir aquellos estudiantes que no tuvieron problemas no es muy bueno."
   ]
  },
  {
   "cell_type": "markdown",
   "metadata": {},
   "source": [
    "# MODELO KNN - No Estudiantes"
   ]
  },
  {
   "cell_type": "markdown",
   "metadata": {},
   "source": [
    "Ahora procederemos a crear y entrenar un modelo KNN con k=5 para el caso de los estudiantes."
   ]
  },
  {
   "cell_type": "code",
   "execution_count": 332,
   "metadata": {
    "scrolled": false
   },
   "outputs": [],
   "source": [
    "\n",
    "features=datasetNoEstudiantes[[\"Deuda\",\"Cuenta\"]]\n",
    "target=datasetNoEstudiantes.PudoPagar\n",
    "\n",
    "cf=neighbors.KNeighborsClassifier(n_neighbors=5)\n",
    "cf.fit(features, target)\n",
    "\n",
    "predicted=cf.predict(features)"
   ]
  },
  {
   "cell_type": "markdown",
   "metadata": {},
   "source": [
    "### Metricas del modelo"
   ]
  },
  {
   "cell_type": "code",
   "execution_count": 333,
   "metadata": {},
   "outputs": [
    {
     "data": {
      "text/plain": [
       "([<matplotlib.axis.YTick at 0x7f16f3ea92b0>,\n",
       "  <matplotlib.axis.YTick at 0x7f16f3eb7ba8>],\n",
       " <a list of 2 Text yticklabel objects>)"
      ]
     },
     "execution_count": 333,
     "metadata": {},
     "output_type": "execute_result"
    },
    {
     "data": {
      "image/png": "[encoded data removed]",
      "text/plain": [
       "<Figure size 432x288 with 2 Axes>"
      ]
     },
     "metadata": {},
     "output_type": "display_data"
    }
   ],
   "source": [
    "cm=metrics.confusion_matrix(target,predicted)\n",
    "plt.imshow(cm, cmap=plt.cm.Blues)\n",
    "plt.title(\"Matriz de confusión para K=5\")\n",
    "plt.colorbar()\n",
    "tick_marks = np.arange(2)\n",
    "plt.xticks(tick_marks, [0,1])\n",
    "plt.yticks(tick_marks, [0,1])"
   ]
  },
  {
   "cell_type": "code",
   "execution_count": 334,
   "metadata": {
    "scrolled": true
   },
   "outputs": [
    {
     "name": "stdout",
     "output_type": "stream",
     "text": [
      "Exactitud:  0.9784458309699376\n",
      "Error:  0.021554169030062353\n",
      "Kappa    :  0.49359950716016154\n",
      "-------------------------------------\n",
      "Metricas para la categoría clientes no estudiantes con problemas en el pago\n",
      "Precisión     :  0.9814441887226697\n",
      "Recall        :  0.9966403739409875\n",
      "Especificidad :  0.3737864077669903\n",
      "F1-score      :  0.9889839107116973\n",
      "-------------------------------------\n",
      "Metricas para la categoría clientes no estudiantes sin problemas en el pago\n",
      "Precisión     :  0.77\n",
      "Recall        :  0.3737864077669903\n",
      "Especificidad :  0.9966403739409875\n",
      "F1-score      :  0.5032679738562091\n"
     ]
    },
    {
     "data": {
      "text/plain": [
       "array([[6823,   23],\n",
       "       [ 129,   77]])"
      ]
     },
     "execution_count": 334,
     "metadata": {},
     "output_type": "execute_result"
    }
   ],
   "source": [
    "\n",
    "print(\"Exactitud: \", metrics.accuracy_score(target,predicted))\n",
    "print(\"Error: \",1-metrics.accuracy_score(target,predicted))\n",
    "print(\"Kappa    : \", metrics.cohen_kappa_score(target,predicted))\n",
    "print(\"-------------------------------------\")\n",
    "print(\"Metricas para la categoría clientes no estudiantes con problemas en el pago\" )\n",
    "print(\"Precisión     : \", metrics.precision_score(target,predicted, labels=[0], average=\"macro\"))\n",
    "print(\"Recall        : \", metrics.recall_score(target,predicted, labels=[0], average=\"macro\"))\n",
    "VN = np.sum(cm[1,1])\n",
    "FP = np.sum(cm[1,0])\n",
    "specificity = VN/(VN+FP)\n",
    "print(\"Especificidad : \", specificity)\n",
    "print(\"F1-score      : \", metrics.f1_score(target,predicted, labels=[0], average=\"macro\"))\n",
    "print(\"-------------------------------------\")\n",
    "print(\"Metricas para la categoría clientes no estudiantes sin problemas en el pago\" )\n",
    "print(\"Precisión     : \", metrics.precision_score(target,predicted, labels=[1], average=\"macro\"))\n",
    "print(\"Recall        : \", metrics.recall_score(target,predicted, labels=[1], average=\"macro\"))\n",
    "VN = np.sum(cm[0,0])\n",
    "FP = np.sum(cm[0,1])\n",
    "specificity = VN/(VN+FP)\n",
    "print(\"Especificidad : \", specificity)\n",
    "print(\"F1-score      : \", metrics.f1_score(target,predicted, labels=[1], average=\"macro\"))\n",
    "cm"
   ]
  },
  {
   "cell_type": "markdown",
   "metadata": {},
   "source": [
    "A continuación, interpretaremos cada métrica:  \n",
    "* Tenemos una exactitud del 97.84%, lo que significa que tiene un error del 2.16% donde no predice de forma correcta. \n",
    "* Tenemos un kappa del 49.35%. Esto significa que el porcentaje de instancias clasificadas por el clasificador de aprendizaje automático que coinciden con los datos etiquetados como verdad fundamental es de 49.35%\n",
    "* Para el caso de la categoría de clientes no estudiantes con problemas en el pago, tenemos:\n",
    "    * El porcentaje de personas que realmente tuvieron problemas en el pago, respecto a los que fueron predecidos fue del 98.14%\n",
    "    * El porcentaje de personas que fue predecido que tendrían problemas con el pago, respecto a los que verdaderamente lo tuvieron fue del 99.66%\n",
    "    * El porcentaje de personas predecidas que no tuvieron problema con el pago, respecto a los que verdaderamente no lo tuvieron es del 37.38%\n",
    "    * El promedio armónico entre el recall y la precisión es de 99.9%\n",
    "* Para el caso de la categoría de clientes no estudiantes sin problemas en el pago, tenemos:\n",
    "    * El porcentaje de personas que realmente no tuvieron problemas en el pago, respecto a los que fueron predecidos fue del 77%\n",
    "    * El porcentaje de personas que fue predecido que no tendrían problemas con el pago, respecto a los que verdaderamente no lo tuvieron fue del 37.38%\n",
    "    * El porcentaje de personas predecidas que tuvieron problema con el pago, respecto a los que verdaderamente lo tuvieron es del 99.66%\n",
    "    * El promedio armónico entre el recall y la precisión es de 50.33%\n",
    "    \n",
    "Lo anterior significa que en términos de predecir los no estudiantes que tuvieron problemas con el pago es bueno, sin embargo, a la hora de predecir aquellos estudiantes que no tuvieron problemas no es muy bueno."
   ]
  },
  {
   "cell_type": "markdown",
   "metadata": {},
   "source": [
    "## KNN-Estudiantes usando protocolos"
   ]
  },
  {
   "cell_type": "markdown",
   "metadata": {},
   "source": [
    "A continuación encontraremos el k más óptimo basado en diferentes métricas. Para esto usaremos dos protocolos: Holdout y K-fold cross validation"
   ]
  },
  {
   "cell_type": "markdown",
   "metadata": {},
   "source": [
    "### Holdout"
   ]
  },
  {
   "cell_type": "code",
   "execution_count": 335,
   "metadata": {
    "scrolled": true
   },
   "outputs": [
    {
     "name": "stdout",
     "output_type": "stream",
     "text": [
      "(2944, 2)\n"
     ]
    },
    {
     "data": {
      "image/png": "[encoded data removed]",
      "text/plain": [
       "<Figure size 432x288 with 1 Axes>"
      ]
     },
     "metadata": {},
     "output_type": "display_data"
    },
    {
     "name": "stdout",
     "output_type": "stream",
     "text": [
      "K_óptimo: 33\n",
      "Exactitud para k=5. Training accuracy score: 0.9688561721404304 Test accuracy score: 0.9601018675721562\n"
     ]
    }
   ],
   "source": [
    "features=datasetEstudiantes[[\"Deuda\",\"Cuenta\"]]\n",
    "target=datasetEstudiantes.PudoPagar\n",
    "print(features.shape)\n",
    "\n",
    "x_train, x_test, y_train, y_test=train_test_split(features, target, test_size=0.4, random_state=123, stratify=target)\n",
    "\n",
    "acc_score=[]\n",
    "acc_training=[]\n",
    "k_values=np.arange(1,150,2)\n",
    "for k in k_values:\n",
    "    cf=neighbors.KNeighborsClassifier(n_neighbors=k)\n",
    "    cf.fit(x_train,y_train)\n",
    "    y_predicted=cf.predict(x_test)\n",
    "    acc_score.append(metrics.accuracy_score(y_predicted,y_test))\n",
    "    y_predicted=cf.predict(x_train)\n",
    "    acc_training.append(metrics.accuracy_score(y_predicted,y_train))\n",
    "    \n",
    "plt.plot(k_values, acc_score)\n",
    "plt.plot(k_values, acc_training)\n",
    "plt.legend(['test accuracy','train accuracy'])\n",
    "plt.show()\n",
    "\n",
    "maximo=max(acc_score)\n",
    "indiceMaximo=0\n",
    "for i in range(0,len(acc_score)):\n",
    "    if(acc_score[i]==maximo):\n",
    "        indiceMaximo=i\n",
    "print(\"K_óptimo:\", k_values[indiceMaximo])\n",
    "print(\"Exactitud para k=5. Training accuracy score:\", acc_training[2],\"Test accuracy score:\", acc_score[2])"
   ]
  },
  {
   "cell_type": "markdown",
   "metadata": {},
   "source": [
    "Como se pudo observar, el k_óptimo para el caso de los estudiantes corresponde a 33. Sin embargo, usar este protocolo no es muy útil debido a qué está sujeto a la aleatoriedad."
   ]
  },
  {
   "cell_type": "markdown",
   "metadata": {},
   "source": [
    "### K-fold cross validation"
   ]
  },
  {
   "cell_type": "code",
   "execution_count": 336,
   "metadata": {},
   "outputs": [],
   "source": [
    "means=[]\n",
    "stds=[]\n",
    "best_k=0\n",
    "for i in k_values:\n",
    "    scoring = ['accuracy', 'precision_weighted', 'recall_weighted', 'f1_weighted']\n",
    "    cf = neighbors.KNeighborsClassifier(n_neighbors=i)\n",
    "    accuracies = cross_val_score(cf, features, target, scoring=\"accuracy\", cv=100)\n",
    "    current_mean=accuracies.mean()\n",
    "    current_std=accuracies.std()\n",
    "    means.append(current_mean)\n",
    "    stds.append(current_std)"
   ]
  },
  {
   "cell_type": "code",
   "execution_count": 337,
   "metadata": {
    "scrolled": false
   },
   "outputs": [
    {
     "data": {
      "image/png": "[encoded data removed]",
      "text/plain": [
       "<Figure size 432x288 with 1 Axes>"
      ]
     },
     "metadata": {},
     "output_type": "display_data"
    },
    {
     "name": "stdout",
     "output_type": "stream",
     "text": [
      "Best accuraccy: 0.9666236559139787\n",
      "Best K: 61\n",
      "Exactitud para k=5. Test accuracy score: 0.9588605858361143\n"
     ]
    }
   ],
   "source": [
    "plt.plot(k_values, means)\n",
    "plt.show()\n",
    "\n",
    "best_k=0\n",
    "for i in range(0,len(means)):\n",
    "    if(means[i]==max(means)):\n",
    "        best_k=i\n",
    "print(\"Best accuraccy:\", max(means))\n",
    "print(\"Best K:\", k_values[best_k])\n",
    "print(\"Exactitud para k=5. Test accuracy score:\", means[2])"
   ]
  },
  {
   "cell_type": "markdown",
   "metadata": {},
   "source": [
    "Como se puede observar en la imagen anterior, el k óptimo, para el caso de los estudiantes, está en 61. \n",
    "\n",
    "Es importante recalcar que esta medida es mucho más confiable que la anterior debido a que el protocolo holdout está muy sujeto a incertidumbre debido a su aleatoriedad. "
   ]
  },
  {
   "cell_type": "markdown",
   "metadata": {},
   "source": [
    "## KNN-No Estudiantes usando protocolos"
   ]
  },
  {
   "cell_type": "markdown",
   "metadata": {},
   "source": [
    "### Holdout"
   ]
  },
  {
   "cell_type": "code",
   "execution_count": 338,
   "metadata": {},
   "outputs": [
    {
     "name": "stdout",
     "output_type": "stream",
     "text": [
      "(7052, 2)\n"
     ]
    },
    {
     "data": {
      "image/png": "[encoded data removed]",
      "text/plain": [
       "<Figure size 432x288 with 1 Axes>"
      ]
     },
     "metadata": {},
     "output_type": "display_data"
    },
    {
     "name": "stdout",
     "output_type": "stream",
     "text": [
      "K_óptimo: 19\n",
      "Exactitud para k=5. Training accuracy score: 0.9777830300165445 Test accuracy score: 0.9737681673165545\n"
     ]
    }
   ],
   "source": [
    "features=datasetNoEstudiantes[[\"Deuda\",\"Cuenta\"]]\n",
    "target=datasetNoEstudiantes.PudoPagar\n",
    "print(features.shape)\n",
    "\n",
    "x_train, x_test, y_train, y_test=train_test_split(features, target, test_size=0.4, random_state=123, stratify=target)\n",
    "\n",
    "acc_score=[]\n",
    "acc_training=[]\n",
    "k_values=np.arange(1,150,2)\n",
    "for k in k_values:\n",
    "    cf=neighbors.KNeighborsClassifier(n_neighbors=k)\n",
    "    cf.fit(x_train,y_train)\n",
    "    y_predicted=cf.predict(x_test)\n",
    "    acc_score.append(metrics.accuracy_score(y_predicted,y_test))\n",
    "    y_predicted=cf.predict(x_train)\n",
    "    acc_training.append(metrics.accuracy_score(y_predicted,y_train))\n",
    "    \n",
    "plt.plot(k_values, acc_score)\n",
    "plt.plot(k_values, acc_training)\n",
    "plt.legend(['test accuracy','train accuracy'])\n",
    "plt.show()\n",
    "\n",
    "\n",
    "maximo=max(acc_score)\n",
    "indiceMaximo=0\n",
    "for i in range(0,len(acc_score)):\n",
    "    if(acc_score[i]==maximo):\n",
    "        indiceMaximo=i\n",
    "print(\"K_óptimo:\", k_values[indiceMaximo])\n",
    "print(\"Exactitud para k=5. Training accuracy score:\", acc_training[2],\"Test accuracy score:\", acc_score[2])"
   ]
  },
  {
   "cell_type": "markdown",
   "metadata": {},
   "source": [
    "Como se pudo observar, el k_óptimo para el caso de los no estudiantes corresponde a 19. Sin embargo, usar este protocolo no es muy útil debido a qué está sujeto a la aleatoriedad."
   ]
  },
  {
   "cell_type": "markdown",
   "metadata": {},
   "source": [
    "### K-fold cross validation"
   ]
  },
  {
   "cell_type": "code",
   "execution_count": 339,
   "metadata": {},
   "outputs": [],
   "source": [
    "means=[]\n",
    "stds=[]\n",
    "best_k=0\n",
    "for i in k_values:\n",
    "    scoring = ['accuracy', 'precision_weighted', 'recall_weighted', 'f1_weighted']\n",
    "    cf = neighbors.KNeighborsClassifier(n_neighbors=i)\n",
    "    accuracies = cross_val_score(cf, features, target, scoring=\"accuracy\", cv=100)\n",
    "    current_mean=accuracies.mean()\n",
    "    current_std=accuracies.std()\n",
    "    means.append(current_mean)\n",
    "    stds.append(current_std)"
   ]
  },
  {
   "cell_type": "code",
   "execution_count": 340,
   "metadata": {
    "scrolled": false
   },
   "outputs": [
    {
     "data": {
      "image/png": "[encoded data removed]",
      "text/plain": [
       "<Figure size 432x288 with 1 Axes>"
      ]
     },
     "metadata": {},
     "output_type": "display_data"
    },
    {
     "name": "stdout",
     "output_type": "stream",
     "text": [
      "Best accuraccy: 0.9767477643639616\n",
      "Best K: 53\n",
      "Exactitud para k=5. Test accuracy score: 0.9743431701319026\n"
     ]
    }
   ],
   "source": [
    "plt.plot(k_values, means)\n",
    "plt.show()\n",
    "\n",
    "best_k=0\n",
    "for i in range(0,len(means)):\n",
    "    if(means[i]==max(means)):\n",
    "        best_k=i\n",
    "print(\"Best accuraccy:\", max(means))\n",
    "print(\"Best K:\", k_values[best_k])\n",
    "print(\"Exactitud para k=5. Test accuracy score:\", means[2])"
   ]
  },
  {
   "cell_type": "markdown",
   "metadata": {},
   "source": [
    "Como se puede observar en la imagen anterior, el k óptimo, para el caso de los no estudiantes, está en 53. \n",
    "\n",
    "Es importante recalcar que esta medida es mucho más confiable que la anterior debido a que el protocolo holdout está muy sujeto a incertidumbre debido a su aleatoriedad. "
   ]
  },
  {
   "cell_type": "markdown",
   "metadata": {},
   "source": [
    "### Comparación K sin protocolos y usando K-fold cross validation"
   ]
  },
  {
   "cell_type": "markdown",
   "metadata": {},
   "source": [
    "#### Modelo de estudiantes"
   ]
  },
  {
   "cell_type": "markdown",
   "metadata": {},
   "source": [
    "Podemos observar que para el caso de los estudiantes con k=5 es un caso de overfitting, esto se puede observar al mirar la gráfica del protocolo holdout. Allí podemos observar que obtenemos los siguientes datos: \n",
    "\n",
    "Exactitud para k=5. Training accuracy score: 0.9777830300165445 Test accuracy score: 0.9737681673165545"
   ]
  },
  {
   "cell_type": "code",
   "execution_count": 341,
   "metadata": {},
   "outputs": [
    {
     "name": "stdout",
     "output_type": "stream",
     "text": [
      "diferencia porcentual: 0.4014862699990074 %\n"
     ]
    }
   ],
   "source": [
    "print(\"diferencia porcentual:\",(0.9777830300165445-0.9737681673165545)*100,\"%\")"
   ]
  },
  {
   "cell_type": "markdown",
   "metadata": {},
   "source": [
    "La diferencia entre ambos es de un 4.0% que es un valor bastante alto. Además, podemos observar en las gráficas que son mostradas en el protocolo Cross validation que es donde el accuracy de prueba tiene los valores más pequeños."
   ]
  },
  {
   "cell_type": "markdown",
   "metadata": {},
   "source": [
    "Adicionalmente, al comparar el accuracy que tiene k=5 y óptimo que es k=61 se encuentran las siguientes diferencias:"
   ]
  },
  {
   "cell_type": "code",
   "execution_count": 342,
   "metadata": {},
   "outputs": [
    {
     "name": "stdout",
     "output_type": "stream",
     "text": [
      "Incremento de precisión del K óptimo respecto a 5: 0.8096140557383601 %\n"
     ]
    }
   ],
   "source": [
    "accuracy_k_5=0.9588605858361143\n",
    "accuracy_k_61=0.9666236559139787\n",
    "incremento= (accuracy_k_61-accuracy_k_5)/accuracy_k_5\n",
    "print(\"Incremento de precisión del K óptimo respecto a 5:\",incremento*100,\"%\")"
   ]
  },
  {
   "cell_type": "markdown",
   "metadata": {},
   "source": [
    "#### Modelo de no estudiantes"
   ]
  },
  {
   "cell_type": "markdown",
   "metadata": {},
   "source": [
    "Podemos observar que para el caso de los no estudiantes con k=5 es un caso de overfitting, esto se puede observar al mirar la gráfica del protocolo holdout. Allí podemos observar que obtenemos los siguientes datos: \n",
    "\n",
    "Exactitud para k=5. Training accuracy score: 0.9688561721404304 Test accuracy score: 0.9601018675721562"
   ]
  },
  {
   "cell_type": "code",
   "execution_count": 343,
   "metadata": {},
   "outputs": [
    {
     "name": "stdout",
     "output_type": "stream",
     "text": [
      "diferencia porcentual: 0.8754304568274196 %\n"
     ]
    }
   ],
   "source": [
    "print(\"diferencia porcentual:\",(0.9688561721404304-0.9601018675721562)*100,\"%\")"
   ]
  },
  {
   "cell_type": "markdown",
   "metadata": {},
   "source": [
    "La diferencia entre ambos es de un 8.8% que es un valor bastante alto. Además, podemos observar en las gráficas que son mostradas en el protocolo Cross validation que es donde el accuracy de prueba tiene los valores más pequeños."
   ]
  },
  {
   "cell_type": "markdown",
   "metadata": {},
   "source": [
    "Adicionalmente, al comparar el accuracy que tiene k=5 y el óptimo que es k=53 se encuentran las siguientes diferencias:"
   ]
  },
  {
   "cell_type": "code",
   "execution_count": 344,
   "metadata": {},
   "outputs": [
    {
     "name": "stdout",
     "output_type": "stream",
     "text": [
      "Incremento de precisión del K óptimo respecto a 5: 0.24679130575046174 %\n"
     ]
    }
   ],
   "source": [
    "accuracy_k_5=0.9743431701319026\n",
    "accuracy_k_53=0.9767477643639616\n",
    "incremento= (accuracy_k_53-accuracy_k_5)/accuracy_k_5\n",
    "print(\"Incremento de precisión del K óptimo respecto a 5:\",incremento*100,\"%\")"
   ]
  },
  {
   "cell_type": "code",
   "execution_count": null,
   "metadata": {},
   "outputs": [],
   "source": []
  }
 ],
 "metadata": {
  "kernelspec": {
   "display_name": "Python 3",
   "language": "python",
   "name": "python3"
  },
  "language_info": {
   "codemirror_mode": {
    "name": "ipython",
    "version": 3
   },
   "file_extension": ".py",
   "mimetype": "text/x-python",
   "name": "python",
   "nbconvert_exporter": "python",
   "pygments_lexer": "ipython3",
   "version": "3.6.5"
  }
 },
 "nbformat": 4,
 "nbformat_minor": 2
}
