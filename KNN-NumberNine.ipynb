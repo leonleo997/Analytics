{
 "cells": [
  {
   "cell_type": "markdown",
   "metadata": {},
   "source": [
    "# KNN APPLIED TO THE NUMBER 9\n",
    "**Names: ** Valery Ibarra Ibáñez, Yesid Leonardo López\n",
    "## Description\n",
    "In this script we will use the KNN algorithm to create a model that will predict when a number is 9.\n",
    "\n",
    "First, we will import the libraries that we will use:"
   ]
  },
  {
   "cell_type": "code",
   "execution_count": 1,
   "metadata": {},
   "outputs": [],
   "source": [
    "from sklearn import neighbors, datasets, metrics\n",
    "import numpy as np\n",
    "import matplotlib.pyplot as plt\n",
    "import pylab as pl #delete"
   ]
  },
  {
   "cell_type": "markdown",
   "metadata": {},
   "source": [
    "The following function filter values for an specific value:"
   ]
  },
  {
   "cell_type": "code",
   "execution_count": 2,
   "metadata": {},
   "outputs": [],
   "source": [
    "def filterValue(digits, value):\n",
    "    filtered={\"data\":[],\"target\":[]}\n",
    "    reshapedValues=digits.images.reshape((len(digits.images), -1))\n",
    "    for i in range(0, len(digits.target)):\n",
    "        if digits.target[i]==value:\n",
    "            filtered.get(\"target\").append(digits.target[i])\n",
    "        else:\n",
    "            filtered.get(\"target\").append(0)\n",
    "        filtered.get(\"data\").append(reshapedValues[i])\n",
    "                    \n",
    "\n",
    "    return filtered"
   ]
  },
  {
   "cell_type": "markdown",
   "metadata": {},
   "source": [
    "Now, we will get the dataset that contains the digits and filter by 9. Then, save features and target data in variables."
   ]
  },
  {
   "cell_type": "code",
   "execution_count": 3,
   "metadata": {},
   "outputs": [],
   "source": [
    "numbers = datasets.load_digits()\n",
    "\n",
    "\n",
    "filteredValues=filterValue(numbers,9)\n",
    "x=filteredValues.get(\"data\") # the dimentions are reduced\n",
    "y=filteredValues.get(\"target\")"
   ]
  },
  {
   "cell_type": "markdown",
   "metadata": {},
   "source": [
    "## K-Nearest Neighbors\n",
    "Let's go to build the knn model!"
   ]
  },
  {
   "cell_type": "code",
   "execution_count": 18,
   "metadata": {},
   "outputs": [
    {
     "data": {
      "text/plain": [
       "KNeighborsClassifier(algorithm='auto', leaf_size=30, metric='minkowski',\n",
       "           metric_params=None, n_jobs=1, n_neighbors=1, p=2,\n",
       "           weights='uniform')"
      ]
     },
     "execution_count": 18,
     "metadata": {},
     "output_type": "execute_result"
    }
   ],
   "source": [
    "k=1\n",
    "knn = neighbors.KNeighborsClassifier(n_neighbors=k)\n",
    "knn.fit(x,y)"
   ]
  },
  {
   "cell_type": "markdown",
   "metadata": {},
   "source": [
    "Then, let's save the predicted values to compare with the real values."
   ]
  },
  {
   "cell_type": "code",
   "execution_count": 19,
   "metadata": {},
   "outputs": [
    {
     "name": "stdout",
     "output_type": "stream",
     "text": [
      "[0 0 0 0 0 0 0 0 0 9 0 0 0 0 0 0 0 0 0 9 0 0 0 0 0 0 0 0 0 9]\n",
      "[0 0 0 0 0 0 0 0 0 9 0 0 0 0 0 0 0 0 0 9 0 0 0 0 0 0 0 0 0 9]\n",
      "1.0\n"
     ]
    }
   ],
   "source": [
    "y_predicted=knn.predict(x)\n",
    "print(y_predicted[0:30])\n",
    "print(np.asarray(y[0:30]))\n",
    "\n",
    "print(metrics.accuracy_score(y_predicted,y))\n"
   ]
  },
  {
   "cell_type": "markdown",
   "metadata": {},
   "source": [
    "## Handmade model\n",
    "Lets implement our handmade algorithm: "
   ]
  },
  {
   "cell_type": "code",
   "execution_count": 20,
   "metadata": {},
   "outputs": [],
   "source": [
    "def filterValue(digits, value):\n",
    "    filteredList=[]\n",
    "    filteredMatrix=[]\n",
    "    for i in range(0, len(digits.target)-1):\n",
    "        if digits.target[i]==value:\n",
    "            filteredList.append(digits.images[i])\n",
    "    return filteredList\n",
    "\n",
    "def verifyBlackCol(digit,colIndex):\n",
    "    isBlack=False\n",
    "    blackAmount=0\n",
    "    for i in range(0,8):\n",
    "        if(digit[i][colIndex]<=3):\n",
    "            blackAmount+=1\n",
    "    if blackAmount==8:\n",
    "        isBlack=True\n",
    "    return blackAmount\n",
    "\n",
    "def verifySecondCol(digit):\n",
    "    answer=False\n",
    "    amountAproved=0\n",
    "    for i in range(4,8):\n",
    "        if(digit[i][1]<4):\n",
    "            amountAproved+=1\n",
    "    if amountAproved==4:\n",
    "        answer=True\n",
    "    return answer\n",
    "\n",
    "def verifyThirdCol(digit):\n",
    "    column=getCol(digit,2)\n",
    "    answer=False\n",
    "    #if column[4]==0 or column[5]==0:\n",
    "    if column[4]<4 or column[5]<4:\n",
    "        answer=True\n",
    "    return answer\n",
    "\n",
    "def verifyFourthCol(digit):\n",
    "    column=getCol(digit,3)\n",
    "    answer=False\n",
    "    #if column[4]==0 or column[5]==0:\n",
    "    if column[4]<4 or column[5]<4:\n",
    "        answer=True\n",
    "    return answer\n",
    "\n",
    "\n",
    "def verifyFifthCol(digit):\n",
    "    column=getCol(digit,4)\n",
    "    answer=False\n",
    "    count=0\n",
    "    for i in range(3,7):\n",
    "        #if(column[i]<=4):\n",
    "        if(column[i]<=5):\n",
    "            count+=1\n",
    "        #delete condition\n",
    "        #if column[i]==0:\n",
    "        #    answer=True\n",
    "    #count > equals to 2\n",
    "    if(count>=1):\n",
    "        answer=True\n",
    "    return answer\n",
    "\n",
    "def verifySixthCol(digit):\n",
    "    column=getCol(digit,5)\n",
    "    answer=False\n",
    "    count=0\n",
    "    for i in range(1,len(column)):\n",
    "        if(column[i]>8):\n",
    "            count+=1\n",
    "    #    if(count>=4 and column[0]<5):\n",
    "    if(count>=4):\n",
    "        answer=True\n",
    "    return answer\n",
    "\n",
    "def verifySeventhCol(digit):\n",
    "    column=getCol(digit,6)\n",
    "    answer=False\n",
    "    count=0\n",
    "    if column[0]<=4:\n",
    "        count+=1\n",
    "\n",
    "    if column[1]<=4:\n",
    "        count+=1\n",
    "\n",
    "    if column[2]<=4:\n",
    "        count+=1\n",
    "\n",
    "    if column[3]<=4:\n",
    "        count+=1\n",
    "\n",
    "    #if count>=2 and count2>1:\n",
    "    if count>=2:\n",
    "        answer=True\n",
    "\n",
    "    return answer\n",
    "\n",
    "def getCol(matrix,col):\n",
    "    colList=[]\n",
    "    for i in range(0,8):\n",
    "        colList.append(matrix[i][col])\n",
    "    return colList\n",
    "\n",
    "def isNine(digit):\n",
    "    answer= True\n",
    "    if verifyBlackCol(digit,0)==False:\n",
    "        answer=False\n",
    "    if verifyBlackCol(digit,7)==False:\n",
    "        answer=False\n",
    "    if verifySecondCol(digit)==False:\n",
    "        answer=False\n",
    "    if verifyThirdCol(digit)==False:\n",
    "        answer=False\n",
    "    if verifyFourthCol(digit)==False:\n",
    "        answer=False\n",
    "    if verifyFifthCol(digit)==False:\n",
    "        answer=False\n",
    "    if verifySixthCol(digit)==False:\n",
    "        answer=False\n",
    "    return answer\n"
   ]
  },
  {
   "cell_type": "markdown",
   "metadata": {},
   "source": [
    "then we get the predicted values:"
   ]
  },
  {
   "cell_type": "code",
   "execution_count": 21,
   "metadata": {
    "scrolled": true
   },
   "outputs": [
    {
     "name": "stdout",
     "output_type": "stream",
     "text": [
      "1797\n",
      "1797\n"
     ]
    }
   ],
   "source": [
    "handmadeAnswers=[]\n",
    "for val in numbers.images:\n",
    "    if isNine(val)==True:\n",
    "        #print(val)\n",
    "        handmadeAnswers.append(9)\n",
    "    else:\n",
    "        handmadeAnswers.append(0)\n",
    "print(len(handmadeAnswers))\n",
    "print(len(y))"
   ]
  },
  {
   "cell_type": "markdown",
   "metadata": {},
   "source": [
    "## Metrics\n",
    "The model is built so we have to see how correct is our model. For that, we will use the metrics library."
   ]
  },
  {
   "cell_type": "markdown",
   "metadata": {},
   "source": [
    "### KNN Confusion matrix"
   ]
  },
  {
   "cell_type": "code",
   "execution_count": 22,
   "metadata": {
    "scrolled": true
   },
   "outputs": [
    {
     "data": {
      "text/plain": [
       "([<matplotlib.axis.YTick at 0x7f383357ed30>,\n",
       "  <matplotlib.axis.YTick at 0x7f383357e668>],\n",
       " <a list of 2 Text yticklabel objects>)"
      ]
     },
     "execution_count": 22,
     "metadata": {},
     "output_type": "execute_result"
    },
    {
     "data": {
      "image/png": "[encoded data removed]",
      "text/plain": [
       "<Figure size 432x288 with 2 Axes>"
      ]
     },
     "metadata": {},
     "output_type": "display_data"
    }
   ],
   "source": [
    "cm = metrics.confusion_matrix(y,y_predicted)\n",
    "cm = cm.astype('float') / cm.sum(axis=1)[:, np.newaxis]\n",
    "\n",
    "plt.imshow(cm, cmap=plt.cm.Blues)\n",
    "title=\"Confusion matrix for \"+str(k)\n",
    "plt.ylabel('True Nine')\n",
    "plt.xlabel('Predicted Nine')\n",
    "plt.title(title)\n",
    "plt.colorbar()\n",
    "tick_marks=np.arange(2)\n",
    "classes=[\"Not nine\", \"Nine\"]\n",
    "plt.xticks(tick_marks, classes)\n",
    "plt.yticks(tick_marks, classes)"
   ]
  },
  {
   "cell_type": "code",
   "execution_count": 23,
   "metadata": {
    "scrolled": true
   },
   "outputs": [
    {
     "name": "stdout",
     "output_type": "stream",
     "text": [
      "[[1. 0.]\n",
      " [0. 1.]]\n",
      "The KNN model accuracy is :1.0\n"
     ]
    }
   ],
   "source": [
    "print(cm)\n",
    "print(\"The KNN model accuracy is :\"+str(metrics.accuracy_score(y,y_predicted)))"
   ]
  },
  {
   "cell_type": "markdown",
   "metadata": {},
   "source": [
    "### Handmade model confusion matrix:"
   ]
  },
  {
   "cell_type": "code",
   "execution_count": 28,
   "metadata": {
    "scrolled": false
   },
   "outputs": [
    {
     "data": {
      "text/plain": [
       "([<matplotlib.axis.YTick at 0x7f382f401b70>,\n",
       "  <matplotlib.axis.YTick at 0x7f382f4014a8>],\n",
       " <a list of 2 Text yticklabel objects>)"
      ]
     },
     "execution_count": 28,
     "metadata": {},
     "output_type": "execute_result"
    },
    {
     "data": {
      "image/png": "[encoded data removed]",
      "text/plain": [
       "<Figure size 432x288 with 2 Axes>"
      ]
     },
     "metadata": {},
     "output_type": "display_data"
    }
   ],
   "source": [
    "cm3 = metrics.confusion_matrix(y,handmadeAnswers)\n",
    "cm3 = cm3.astype('float') / cm3.sum(axis=1)[:, np.newaxis]\n",
    "\n",
    "plt.imshow(cm3, cmap=plt.cm.Blues)\n",
    "title=\"Confusion matrix for handmade model\"\n",
    "plt.ylabel('True Nine')\n",
    "plt.xlabel('Predicted Nine')\n",
    "plt.title(title)\n",
    "plt.colorbar()\n",
    "tick_marks=np.arange(2)\n",
    "classes=[\"Not nine\", \"Nine\"]\n",
    "plt.xticks(tick_marks, classes)\n",
    "plt.yticks(tick_marks, classes)"
   ]
  },
  {
   "cell_type": "code",
   "execution_count": 25,
   "metadata": {},
   "outputs": [
    {
     "name": "stdout",
     "output_type": "stream",
     "text": [
      "[[0.92022263 0.07977737]\n",
      " [0.27222222 0.72777778]]\n",
      "The handmade model accuracy is :0.900946021146355\n"
     ]
    }
   ],
   "source": [
    "print(cm3)\n",
    "print(\"The handmade model accuracy is :\"+str(metrics.accuracy_score(y,handmadeAnswers)))"
   ]
  },
  {
   "cell_type": "markdown",
   "metadata": {},
   "source": [
    "### Confusion matrix between handmade model and KNN answers:"
   ]
  },
  {
   "cell_type": "code",
   "execution_count": 26,
   "metadata": {},
   "outputs": [
    {
     "data": {
      "text/plain": [
       "([<matplotlib.axis.YTick at 0x7f38334e52b0>,\n",
       "  <matplotlib.axis.YTick at 0x7f382f496390>],\n",
       " <a list of 2 Text yticklabel objects>)"
      ]
     },
     "execution_count": 26,
     "metadata": {},
     "output_type": "execute_result"
    },
    {
     "data": {
      "image/png": "[encoded data removed]",
      "text/plain": [
       "<Figure size 432x288 with 2 Axes>"
      ]
     },
     "metadata": {},
     "output_type": "display_data"
    }
   ],
   "source": [
    "cm2 = metrics.confusion_matrix(y_predicted,handmadeAnswers)\n",
    "cm2 = cm2.astype('float') / cm2.sum(axis=1)[:, np.newaxis]\n",
    "\n",
    "plt.imshow(cm2, cmap=plt.cm.Blues)\n",
    "title=\"Confusion matrix for between handmade model and KNN answers\"\n",
    "plt.xlabel('Handmade prediction')\n",
    "plt.ylabel('KNN prediction')\n",
    "plt.title(title)\n",
    "plt.colorbar()\n",
    "tick_marks=np.arange(2)\n",
    "classes=[\"Not nine\", \"Nine\"]\n",
    "plt.xticks(tick_marks, classes)\n",
    "plt.yticks(tick_marks, classes)\n"
   ]
  },
  {
   "cell_type": "code",
   "execution_count": 27,
   "metadata": {},
   "outputs": [
    {
     "name": "stdout",
     "output_type": "stream",
     "text": [
      "[[0.92022263 0.07977737]\n",
      " [0.27222222 0.72777778]]\n",
      "The accuracy between models is :0.900946021146355\n"
     ]
    }
   ],
   "source": [
    "print(cm2)\n",
    "print(\"The accuracy between models is :\"+str(metrics.accuracy_score(y_predicted,handmadeAnswers)))"
   ]
  },
  {
   "cell_type": "markdown",
   "metadata": {},
   "source": [
    "# The End :)"
   ]
  },
  {
   "cell_type": "code",
   "execution_count": null,
   "metadata": {},
   "outputs": [],
   "source": []
  },
  {
   "cell_type": "code",
   "execution_count": null,
   "metadata": {},
   "outputs": [],
   "source": []
  }
 ],
 "metadata": {
  "kernelspec": {
   "display_name": "Python 3",
   "language": "python",
   "name": "python3"
  },
  "language_info": {
   "codemirror_mode": {
    "name": "ipython",
    "version": 3
   },
   "file_extension": ".py",
   "mimetype": "text/x-python",
   "name": "python",
   "nbconvert_exporter": "python",
   "pygments_lexer": "ipython3",
   "version": "3.6.5"
  }
 },
 "nbformat": 4,
 "nbformat_minor": 2
}
